{
 "cells": [
  {
   "cell_type": "markdown",
   "metadata": {},
   "source": [
    "# Demonstrating Provenance for netcdf workflows.\n"
   ]
  },
  {
   "cell_type": "code",
   "execution_count": 1,
   "metadata": {
    "collapsed": true
   },
   "outputs": [],
   "source": [
    "import xarray\n",
    "import netCDF4\n",
    "import json"
   ]
  },
  {
   "cell_type": "markdown",
   "metadata": {},
   "source": [
    "The input for the process is a json file describing a series of simple workflows using opendap links.\n",
    "\n",
    "Testing the input.json opendap links locally."
   ]
  },
  {
   "cell_type": "code",
   "execution_count": 2,
   "metadata": {
    "collapsed": false
   },
   "outputs": [
    {
     "name": "stdout",
     "output_type": "stream",
     "text": [
      "clipc_combine_process  input.json\t      run.d4p.clipc.notebook.sh\n",
      "clipc.d4p.ipynb        input_simple.json      run.workflow.sh\n",
      "clipc.py\t       knmi.wps.py\t      run.wps.here.birdexp.sh\n",
      "clipc.pyc\t       output0.nc\t      run.wps.here.sh\n",
      "dispel4py\t       Provenance Demo.ipynb  setup.py\n",
      "__init__.py\t       README.md\n",
      "{u'collector': [{u'input': [u'http://opendap.knmi.nl/knmi/thredds/dodsC/CLIPC/knmi/RCM/EUR-44/No_BC/tas/hd17_icclim-4-2-3_KNMI_ens-multiModel_rcp85_r1i1p1_SMHI-RCA4_v1_EUR-44_yr_20060101-20991231.nc',\n",
      "                            u'http://opendap.knmi.nl/knmi/thredds/dodsC/CLIPC/knmi/RCM/EUR-44/No_BC/tas/hd17_icclim-4-2-3_KNMI_ens-multiModel_rcp45_r1i1p1_SMHI-RCA4_v1_EUR-44_yr_20060101-20991231.nc',\n",
      "                            u'+']}]}\n"
     ]
    }
   ],
   "source": [
    "!ls\n",
    "from pprint import pprint\n",
    "\n",
    "with open('input_simple.json') as data_file:    \n",
    "    data = json.load(data_file)\n",
    "\n",
    "pprint(data)"
   ]
  },
  {
   "cell_type": "code",
   "execution_count": 3,
   "metadata": {
    "collapsed": false
   },
   "outputs": [
    {
     "name": "stdout",
     "output_type": "stream",
     "text": [
      "http://opendap.knmi.nl/knmi/thredds/dodsC/CLIPC/knmi/RCM/EUR-44/No_BC/tas/hd17_icclim-4-2-3_KNMI_ens-multiModel_rcp85_r1i1p1_SMHI-RCA4_v1_EUR-44_yr_20060101-20991231.nc\n",
      "http://opendap.knmi.nl/knmi/thredds/dodsC/CLIPC/knmi/RCM/EUR-44/No_BC/tas/hd17_icclim-4-2-3_KNMI_ens-multiModel_rcp45_r1i1p1_SMHI-RCA4_v1_EUR-44_yr_20060101-20991231.nc\n",
      "+\n"
     ]
    }
   ],
   "source": [
    "ds = {}\n",
    "for i in data['collector']:\n",
    "    for s in i['input']:\n",
    "        if s not in ds:\n",
    "            try:\n",
    "                ds[s] = xarray.open_dataset(s)\n",
    "                print s\n",
    "            except Exception, e:\n",
    "                print s\n",
    "           "
   ]
  },
  {
   "cell_type": "markdown",
   "metadata": {},
   "source": [
    "The datasets used in this example are"
   ]
  },
  {
   "cell_type": "code",
   "execution_count": 4,
   "metadata": {
    "collapsed": false
   },
   "outputs": [
    {
     "name": "stdout",
     "output_type": "stream",
     "text": [
      "[<xarray.Dataset>\n",
      "Dimensions:       (bnds: 2, member: 13, rlat: 103, rlon: 106, time: 94, x: 106, y: 103)\n",
      "Coordinates:\n",
      "  * time          (time) datetime64[ns] 2006-07-01 2007-07-01 2008-07-01 ...\n",
      "    y             (rlat) float64 ...\n",
      "    x             (rlon) float64 ...\n",
      "  * member        (member) |S64 '20p' '80p' 'CCCma-CanESM2' 'CNRM-CM5' ...\n",
      "    lon           (y, x) float64 ...\n",
      "    lat           (y, x) float64 ...\n",
      "  * bnds          (bnds) int64 0 1\n",
      "  * rlat          (rlat) int64 0 1 2 3 4 5 6 7 8 9 10 11 12 13 14 15 16 17 ...\n",
      "  * rlon          (rlon) int64 0 1 2 3 4 5 6 7 8 9 10 11 12 13 14 15 16 17 ...\n",
      "Data variables:\n",
      "    time_bnds     (time, bnds) datetime64[ns] ...\n",
      "    hd17          (member, time, y, x) float64 ...\n",
      "    rotated_pole  |S64 ...\n",
      "Attributes:\n",
      "    Conventions: CF-1.6\n",
      "    institution: Climate impact portal (http://climate4impact.eu)\n",
      "    title: hd17: heating degree days\n",
      "    references: http://www.ecad.eu/documents/atbd.pdf\n",
      "    comment: ECA&D stands for European Climate Assessment & Dataset\n",
      "    variable_name: hd17\n",
      "    summary: hd17 is a climate change index definied by ECA&D. The indicator measures the total temperature amount of 17C - tas during a year for a given location\n",
      "    invar_gcm_model_id:  \n",
      "    invar_experiment_name: rcp85\n",
      "    time_coverage_start: 20060101\n",
      "    time_coverage_end: 20991231\n",
      "    keywords: ETCCDI, ECA&D, climate, index, hd17,year, reference, climate model output, EUR-44\n",
      "    tracking_id: 8713706b-2165-497e-9ccb-7eab293632b7\n",
      "    invar_variable_name: tas\n",
      "    activity: clipc\n",
      "    product: climate model output\n",
      "    package_name: icclim-4-2-3\n",
      "    package_references: https://github.com/cerfacs-globc/icclim\n",
      "    institution_id: KNMI\n",
      "    institution_url: knmi.nl\n",
      "    contact: eca@knmi.nl\n",
      "    contributor_name: KNMI\n",
      "    contributor_role: This index was calculated by the ECA&D team. More ETCCDI and ECA&D indices are available on www.ecad.eu\n",
      "    date_created: 20160725\n",
      "    date_issued: 20160801\n",
      "    date_modified:  \n",
      "    realisation_id:  \n",
      "    source_data_id:  \n",
      "    source_data_id_comment:  \n",
      "    invar_platform:  \n",
      "    invar_platform_id:  \n",
      "    invar_satellite_algorithm:  \n",
      "    invar_satellite_sensor:  \n",
      "    invar_rcm_model_id: SMHI-RCA4_v1\n",
      "    invar_rcm_model_realization_id:  \n",
      "    invar_reanalysis_id:  \n",
      "    invar_bc_method_id:  \n",
      "    invar_bc_observation_id:  \n",
      "    invar_bc_period:  \n",
      "    reference_period:  \n",
      "    output_frequency: yr\n",
      "    cdm_datatype: Grid\n",
      "    domain: EUR-44\n",
      "    geospatial_bounds: CORDEX domain: EUR-44\n",
      "    geospatial_lat_min: -44.7449\n",
      "    geospatial_lat_max: 65.1515\n",
      "    geospatial_lat_resolution: 0.44 degrees\n",
      "    geospatial_lon_min: 21.9173\n",
      "    geospatial_lon_max: 72.6358\n",
      "    geospatial_lon_resolution: 0.44 degrees\n",
      "    tile:  \n",
      "    invar_ensemble_member: r1i1p1\n",
      "    invar_tracking_id: ca1a3585-e9a8-4bfd-9cd8-cf2fbfcc6d0e\n",
      "    invar_rcm_model_driver: ens-multiModel\n",
      "    history: Thu Sep 22 14:37:39 2016: ncatted -O -a calendar,time_bnds,c,c,365_day ./RCM/EUR-44/No_BC/tas/hd17_icclim-4-2-3_KNMI_ens-multiModel_rcp85_r1i1p1_SMHI-RCA4_v1_EUR-44_yr_20060101-20991231.nc\n",
      "Thu Sep 22 14:37:10 2016: ncatted -O -a units,time_bnds,c,c,days since 1949-12-01 00:00:00 ./RCM/EUR-44/No_BC/tas/hd17_icclim-4-2-3_KNMI_ens-multiModel_rcp85_r1i1p1_SMHI-RCA4_v1_EUR-44_yr_20060101-20991231.nc\n",
      "Aggregated members into a single file with ADAGUC. Used input files: hd17_icclim-4-2-3_KNMI_ens-mul...\n",
      "    DODS.strlen: 0, <xarray.Dataset>\n",
      "Dimensions:       (bnds: 2, member: 13, rlat: 103, rlon: 106, time: 94, x: 106, y: 103)\n",
      "Coordinates:\n",
      "  * time          (time) datetime64[ns] 2006-07-01 2007-07-01 2008-07-01 ...\n",
      "    y             (rlat) float64 ...\n",
      "    x             (rlon) float64 ...\n",
      "  * member        (member) |S64 '20p' '80p' 'CCCma-CanESM2' 'CNRM-CM5' ...\n",
      "    lon           (y, x) float64 ...\n",
      "    lat           (y, x) float64 ...\n",
      "  * bnds          (bnds) int64 0 1\n",
      "  * rlat          (rlat) int64 0 1 2 3 4 5 6 7 8 9 10 11 12 13 14 15 16 17 ...\n",
      "  * rlon          (rlon) int64 0 1 2 3 4 5 6 7 8 9 10 11 12 13 14 15 16 17 ...\n",
      "Data variables:\n",
      "    time_bnds     (time, bnds) datetime64[ns] ...\n",
      "    hd17          (member, time, y, x) float64 ...\n",
      "    rotated_pole  |S64 ...\n",
      "Attributes:\n",
      "    Conventions: CF-1.6\n",
      "    institution: Climate impact portal (http://climate4impact.eu)\n",
      "    title: hd17: heating degree days\n",
      "    references: http://www.ecad.eu/documents/atbd.pdf\n",
      "    comment: ECA&D stands for European Climate Assessment & Dataset\n",
      "    variable_name: hd17\n",
      "    summary: hd17 is a climate change index definied by ECA&D. The indicator measures the total temperature amount of 17C - tas during a year for a given location\n",
      "    invar_gcm_model_id:  \n",
      "    invar_experiment_name: rcp45\n",
      "    time_coverage_start: 20060101\n",
      "    time_coverage_end: 20991231\n",
      "    keywords: ETCCDI, ECA&D, climate, index, hd17,year, reference, climate model output, EUR-44\n",
      "    tracking_id: 5ec1b6c6-1746-4d13-9b9f-93e1c7c87346\n",
      "    invar_variable_name: tas\n",
      "    activity: clipc\n",
      "    product: climate model output\n",
      "    package_name: icclim-4-2-3\n",
      "    package_references: https://github.com/cerfacs-globc/icclim\n",
      "    institution_id: KNMI\n",
      "    institution_url: knmi.nl\n",
      "    contact: eca@knmi.nl\n",
      "    contributor_name: KNMI\n",
      "    contributor_role: This index was calculated by the ECA&D team. More ETCCDI and ECA&D indices are available on www.ecad.eu\n",
      "    date_created: 20160725\n",
      "    date_issued: 20160801\n",
      "    date_modified:  \n",
      "    realisation_id:  \n",
      "    source_data_id:  \n",
      "    source_data_id_comment:  \n",
      "    invar_platform:  \n",
      "    invar_platform_id:  \n",
      "    invar_satellite_algorithm:  \n",
      "    invar_satellite_sensor:  \n",
      "    invar_rcm_model_id: SMHI-RCA4_v1\n",
      "    invar_rcm_model_realization_id:  \n",
      "    invar_reanalysis_id:  \n",
      "    invar_bc_method_id:  \n",
      "    invar_bc_observation_id:  \n",
      "    invar_bc_period:  \n",
      "    reference_period:  \n",
      "    output_frequency: yr\n",
      "    cdm_datatype: Grid\n",
      "    domain: EUR-44\n",
      "    geospatial_bounds: CORDEX domain: EUR-44\n",
      "    geospatial_lat_min: -44.7449\n",
      "    geospatial_lat_max: 65.1515\n",
      "    geospatial_lat_resolution: 0.44 degrees\n",
      "    geospatial_lon_min: 21.9173\n",
      "    geospatial_lon_max: 72.6358\n",
      "    geospatial_lon_resolution: 0.44 degrees\n",
      "    tile:  \n",
      "    invar_ensemble_member: r1i1p1\n",
      "    invar_tracking_id: 2a34750f-1957-47f7-9ff2-6a2197bbff19\n",
      "    invar_rcm_model_driver: ens-multiModel\n",
      "    history: Thu Sep 22 14:37:39 2016: ncatted -O -a calendar,time_bnds,c,c,365_day ./RCM/EUR-44/No_BC/tas/hd17_icclim-4-2-3_KNMI_ens-multiModel_rcp45_r1i1p1_SMHI-RCA4_v1_EUR-44_yr_20060101-20991231.nc\n",
      "Thu Sep 22 14:37:09 2016: ncatted -O -a units,time_bnds,c,c,days since 1949-12-01 00:00:00 ./RCM/EUR-44/No_BC/tas/hd17_icclim-4-2-3_KNMI_ens-multiModel_rcp45_r1i1p1_SMHI-RCA4_v1_EUR-44_yr_20060101-20991231.nc\n",
      "Aggregated members into a single file with ADAGUC. Used input files: hd17_icclim-4-2-3_KNMI_ens-mul...\n",
      "    DODS.strlen: 0]\n"
     ]
    }
   ],
   "source": [
    "print ds.values()"
   ]
  },
  {
   "cell_type": "markdown",
   "metadata": {
    "collapsed": false
   },
   "source": [
    "Change working directory"
   ]
  },
  {
   "cell_type": "code",
   "execution_count": null,
   "metadata": {
    "collapsed": false
   },
   "outputs": [
    {
     "name": "stdout",
     "output_type": "stream",
     "text": [
      "clipc_combine_process  input.json\t      run.d4p.clipc.notebook.sh\n",
      "clipc.d4p.ipynb        input_simple.json      run.workflow.sh\n",
      "clipc.py\t       knmi.wps.py\t      run.wps.here.birdexp.sh\n",
      "clipc.pyc\t       output0.nc\t      run.wps.here.sh\n",
      "dispel4py\t       Provenance Demo.ipynb  setup.py\n",
      "__init__.py\t       README.md\n",
      "\u001b7\u001b[?47h\u001b[?1h\u001b=\n",
      "# run in jupyter\n",
      "python -m dispel4py.new.processor simple clipc -f input_simple.json\n",
      "\n",
      "# run outside of jupyter for multiprocessing.\n",
      "#python -m dispel4py.new.processor multi clipc -n 12 -f input_simple.json\n",
      "\u001b[7mrun.workflow.sh (END)\u001b[m\u001b[K"
     ]
    }
   ],
   "source": [
    "!ls\n",
    "!less run.workflow.sh\n",
    "!bash run.workflow.sh"
   ]
  },
  {
   "cell_type": "code",
   "execution_count": null,
   "metadata": {
    "collapsed": false
   },
   "outputs": [],
   "source": []
  },
  {
   "cell_type": "code",
   "execution_count": null,
   "metadata": {
    "collapsed": true
   },
   "outputs": [],
   "source": []
  }
 ],
 "metadata": {
  "kernelspec": {
   "display_name": "Python 2",
   "language": "python",
   "name": "python2"
  },
  "language_info": {
   "codemirror_mode": {
    "name": "ipython",
    "version": 2
   },
   "file_extension": ".py",
   "mimetype": "text/x-python",
   "name": "python",
   "nbconvert_exporter": "python",
   "pygments_lexer": "ipython2",
   "version": "2.7.11"
  }
 },
 "nbformat": 4,
 "nbformat_minor": 2
}
