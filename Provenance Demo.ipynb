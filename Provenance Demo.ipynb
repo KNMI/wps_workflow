{
 "cells": [
  {
   "cell_type": "markdown",
   "metadata": {},
   "source": [
    "# Demonstrating Provenance for netcdf/xarray workflows.\n"
   ]
  },
  {
   "cell_type": "markdown",
   "metadata": {},
   "source": [
    "Authors: Alessandro Spinuso and Andrej Mihajlovski\n",
    "Royal Netherlands Meteorologic Institure (KNMI)\n",
    "\n",
    "\n",
    "The following demonstration focuses on presenting provenance using PROV-S and W3C for a simple workflow using dataset input and output elements.\n",
    "\n",
    "The dispel4py framework is utalised for the workflows. \n",
    "Xarray for inmemory management of netcdf/opendap data.\n",
    "Matplotlib for visualisation.\n",
    "W3C for provenance representation."
   ]
  },
  {
   "cell_type": "code",
   "execution_count": 1,
   "metadata": {
    "collapsed": true
   },
   "outputs": [],
   "source": [
    "import xarray\n",
    "#import netCDF4\n",
    "import json\n",
    "\n",
    "from dispel4py.workflow_graph import WorkflowGraph \n",
    "from dispel4py.provenance import *\n",
    "\n",
    "import time\n",
    "import random\n",
    "\n",
    "from dispel4py.base import create_iterative_chain, ConsumerPE, IterativePE, SimpleFunctionPE\n",
    "\n",
    "import matplotlib.pyplot as plt\n",
    "import traceback"
   ]
  },
  {
   "cell_type": "markdown",
   "metadata": {
    "collapsed": false
   },
   "source": [
    "Simple Workflow, xarray in xarray out. \n",
    "The generic processing elements are defined bellow. GenericPE bellongs to the dispel4py framework. It allows pickeled elements to be passed as inputs and outputs. The elements are linked and visualised via the workflow_graph component.\n",
    "The three components defined bellow:\n",
    "- Read, xarray is read into memory.\n",
    "- Workflow, xarray is processed/passed to output (no changes)\n",
    "- Write, xarray is visualised."
   ]
  },
  {
   "cell_type": "code",
   "execution_count": 2,
   "metadata": {
    "collapsed": false
   },
   "outputs": [
    {
     "name": "stdout",
     "output_type": "stream",
     "text": [
      "SETTING NAME: Read\n",
      "SETTING NAME: Workflow\n",
      "SETTING NAME: Write\n"
     ]
    },
    {
     "data": {
      "image/png": "[encoded data removed]"
     },
     "metadata": {},
     "output_type": "display_data"
    }
   ],
   "source": [
    "class Read(GenericPE):\n",
    "    \n",
    "    def __init__(self):\n",
    "        GenericPE.__init__(self)\n",
    "        self._add_input('input')\n",
    "        self._add_output('xarray')\n",
    "\n",
    "    def _process(self,inputs):\n",
    "        self.log('read_process')\n",
    "     \n",
    "        self.log(inputs)\n",
    "\n",
    "        ds = xarray.open_dataset(inputs['input'][0])\n",
    "    \n",
    "        self.write( 'xarray' , (ds , inputs['input'][1]) )\n",
    "\n",
    "class Write(GenericPE):\n",
    "    \n",
    "    def __init__(self):\n",
    "        GenericPE.__init__(self)\n",
    "        self._add_input('write')\n",
    "        self._add_output('end')\n",
    "        \n",
    "    def _process(self,inputs):\n",
    "        self.log('WriteFunction')\n",
    "        \n",
    "        inputs['write'][0].to_netcdf( inputs['write'][1] )\n",
    "        \n",
    "        self.write('end', inputs )\n",
    "        \n",
    "        \n",
    "class Workflow(GenericPE):\n",
    "        \n",
    "    def __init__(self):\n",
    "        GenericPE.__init__(self)\n",
    "        self._add_input('input')\n",
    "        self._add_output('output')\n",
    "        \n",
    "    def _process(self,inputs):\n",
    "        self.log('Workflow_process')\n",
    "        \n",
    "        #self.log(inputs)\n",
    "        \n",
    "        #nc = inputs['input'][0]\n",
    "        nc = inputs['input'][0]\n",
    "        #self.log(nc)\n",
    "        #\n",
    "        self.write('output', (nc , inputs['input'][1] ))\n",
    "\n",
    "\n",
    "readX  = Read()\n",
    "readX.name = 'collector'\n",
    "wf     = Workflow()       \n",
    "writeX = Write()\n",
    "\n",
    "#Initialise the graph\n",
    "def createWorkflowGraph():\n",
    "    graph = WorkflowGraph()    \n",
    "    graph.connect(readX ,'xarray'   , wf     ,'input')\n",
    "    graph.connect(wf    ,'output'   , writeX , 'write')\n",
    "\n",
    "    return graph\n",
    "\n",
    "graph = createWorkflowGraph()\n",
    "\n",
    "\n",
    "from dispel4py.visualisation import display\n",
    "display(graph)\n",
    "\n",
    "\n",
    "def runExampleWorkflow():\n",
    "    infile = 'input_simple.json'\n",
    "    #with open(infile) as data_file:    \n",
    "    #    input_data = json.load(data_file)\n",
    "    \n",
    "    print infile                                                     \n",
    "    print input_data                   \n",
    "\n",
    "    #Launch in simple process\n",
    "    simple_process.process_and_return(graph, input_data)"
   ]
  },
  {
   "cell_type": "markdown",
   "metadata": {},
   "source": [
    "Input specified."
   ]
  },
  {
   "cell_type": "code",
   "execution_count": 3,
   "metadata": {
    "collapsed": true
   },
   "outputs": [],
   "source": [
    "input_data = { \n",
    "                'collector': [ { 'input': [ 'data/newA.nc', 'data/newOut.nc']}]\n",
    "             }"
   ]
  },
  {
   "cell_type": "code",
   "execution_count": 4,
   "metadata": {
    "collapsed": false,
    "scrolled": false
   },
   "outputs": [
    {
     "name": "stdout",
     "output_type": "stream",
     "text": [
      "input_simple.json\n",
      "{'collector': [{'input': ['data/newA.nc', 'data/newOut.nc']}]}\n",
      "SETTING NAME: SimpleProcessingPE\n",
      "collector0: read_process\n",
      "collector0: {'input': ['data/newA.nc', 'data/newOut.nc']}\n",
      "Workflow1: Workflow_process\n",
      "Write2: WriteFunction\n",
      "SimplePE: Processed 1 iteration.\n"
     ]
    }
   ],
   "source": [
    "runExampleWorkflow()"
   ]
  },
  {
   "cell_type": "markdown",
   "metadata": {},
   "source": [
    "Definition of a Provenance Processing Element. This element will be run in parallel to other process, it is defined to extract provenance information from a netCDF/xarray."
   ]
  },
  {
   "cell_type": "code",
   "execution_count": 5,
   "metadata": {
    "collapsed": false
   },
   "outputs": [],
   "source": [
    "class netcdfProvType(ProvenancePE):\n",
    "    def __init__(self):\n",
    "        ProvenancePE.__init__(self)\n",
    "    \n",
    "    ''' extracts xarray metadata '''\n",
    "    def extractItemMetadata(self,data):\n",
    "        try:\n",
    "            \n",
    "            d = {}\n",
    "            \n",
    "            for k , v in data[0].attrs.items():\n",
    "                d[str(k)] = str(v)\n",
    "            \n",
    "            print d\n",
    "        \n",
    "            metadata= [d]\n",
    "            \n",
    "            return metadata\n",
    "                             \n",
    "        except Exception, err:\n",
    "            self.log(\"Applying default metadata extraction:\"+str(traceback.format_exc()))\n",
    "            self.error=self.error+\"Extract Metadata error: \"+str(traceback.format_exc())\n",
    "            return super(netcdfProvType, self).extractItemMetadata(data);\n",
    "        "
   ]
  },
  {
   "cell_type": "markdown",
   "metadata": {},
   "source": [
    "A high level 'template/profile' describing the provenance process."
   ]
  },
  {
   "cell_type": "code",
   "execution_count": 6,
   "metadata": {
    "collapsed": false
   },
   "outputs": [],
   "source": [
    "prov_profile =  {\n",
    "                    'username': \"andrej\", \n",
    "                    'w3c_prov': False   ,\n",
    "                    'description' : \"prov demo simple\",\n",
    "                    'workflowName': \"test_ecmwf\"      ,\n",
    "                    'workflowId'  : \"workflow process\",\n",
    "                    'save_mode'   : 'service'         ,\n",
    "    \n",
    "                 # defines the use of the ProvenancePE with the Workflow element\n",
    "                    'componentsType' : {'Workflow':(netcdfProvType,)}\n",
    "                 }"
   ]
  },
  {
   "cell_type": "markdown",
   "metadata": {},
   "source": [
    "The REPOS_URL is the target provenence depo. Used as a production tool for VERCE (Seismo), CLIPC (C3S) and Climate4Impact (Climate IS-ENES)"
   ]
  },
  {
   "cell_type": "code",
   "execution_count": 7,
   "metadata": {
    "collapsed": true
   },
   "outputs": [],
   "source": [
    "#Store via service\n",
    "#ProvenancePE.REPOS_URL='http://127.0.0.1:8080/j2ep-1.0/prov/workflow/insert'\n",
    "#ProvenancePE.REPOS_URL='http://portal.verce.eu/j2ep-1.0/prov/workflow/insert'\n",
    "ProvenancePE.REPOS_URL='http://climate4impact.eu/prov/workflow/insert'\n",
    "\n",
    "#Store to local path\n",
    "ProvenancePE.PROV_PATH='./prov-files/'\n",
    "\n",
    "#Size of the provenance bulk before sent to storage or sensor\n",
    "ProvenancePE.BULK_SIZE=20\n",
    "\n",
    "#ProvenancePE.REPOS_URL='http://climate4impact.eu/prov/workflow/insert'\n"
   ]
  },
  {
   "cell_type": "code",
   "execution_count": 8,
   "metadata": {
    "collapsed": false
   },
   "outputs": [
    {
     "name": "stdout",
     "output_type": "stream",
     "text": [
      "{'username': 'andrej', 'w3c_prov': False, 'workflowId': 'workflow process', 'description': 'prov demo simple', 'save_mode': 'service', 'workflowName': 'test_ecmwf', 'componentsType': {'Workflow': (<class '__main__.netcdfProvType'>,)}}\n",
      "SETTING NAME: NewWorkflowRun\n",
      "SETTING NAME: IterativePE\n",
      "Inputs: {'NewWorkflowRun': [{'input': 'None'}]}\n",
      "SETTING NAME: SimpleProcessingPE\n",
      "RUN Metadata: {'username': 'andrej', 'workflowId': 'workflow process', 'description': 'prov demo simple', 'mapping': '-f', 'system_id': None, 'runId': 'JUP_SIMPLE_pc150396.knmi.nl-19020-d1f192d2-d3fc-11e6-a7fe-901b0e877023', 'startTime': '2017-01-06 10:42:28.887693', 'input': [], '_id': 'JUP_SIMPLE_pc150396.knmi.nl-19020-d1f192d2-d3fc-11e6-a7fe-901b0e877023', 'type': 'workflow_run', 'workflowName': 'test_ecmwf'}\n",
      "NewWorkflowRun6: [{'username': 'andrej', 'workflowId': 'workflow process', 'description': 'prov demo simple', 'mapping': '-f', 'system_id': None, 'runId': 'JUP_SIMPLE_pc150396.knmi.nl-19020-d1f192d2-d3fc-11e6-a7fe-901b0e877023', 'startTime': '2017-01-06 10:42:28.887693', 'input': [], '_id': 'JUP_SIMPLE_pc150396.knmi.nl-19020-d1f192d2-d3fc-11e6-a7fe-901b0e877023', 'type': 'workflow_run', 'workflowName': 'test_ecmwf'}]\n",
      "NewWorkflowRun6: TO SERVICE ________________ID: climate4impact.eu\n",
      "NewWorkflowRun6: Postprocress: (200, '', '{\"inserts\": [\"JUP_SIMPLE_pc150396.knmi.nl-19020-d1f192d2-d3fc-11e6-a7fe-901b0e877023\"], \"success\": true}')\n",
      "SimplePE: Processed 1 iteration.\n",
      "Outputs: {}\n",
      "Change grouping implementation \n",
      "Change grouping implementation \n",
      "Injecting provenance to: Workflow Original type: (<class 'dispel4py.core.GenericPE'>,)\n",
      "SETTING NAME: netcdfProvType\n",
      "Injecting provenance to: Workflow Transoformed: (<class '__main__.netcdfProvType'>, <class '__main__.Workflow'>)\n",
      "Change grouping implementation \n",
      "Injecting provenance to: Write Original type: (<class 'dispel4py.core.GenericPE'>,)\n",
      "SETTING NAME: ProvenancePE\n",
      "Injecting provenance to: Write Transoformed: (<class 'dispel4py.provenance.ProvenancePE'>, <class '__main__.Write'>)\n",
      "Change grouping implementation \n",
      "Injecting provenance to: collector Original type: (<class 'dispel4py.core.GenericPE'>,)\n",
      "SETTING NAME: ProvenancePE\n",
      "Injecting provenance to: collector Transoformed: (<class 'dispel4py.provenance.ProvenancePE'>, <class '__main__.Read'>)\n"
     ]
    },
    {
     "data": {
      "image/png": "[encoded data removed]"
     },
     "metadata": {},
     "output_type": "display_data"
    }
   ],
   "source": [
    "def createGraphWithProv():\n",
    "    \n",
    "    graph=createWorkflowGraph()\n",
    "    #Location of the remote repository for runtime updates of the lineage traces. Shared among ProvenanceRecorder subtypes\n",
    "\n",
    "    # Ranomdly generated unique identifier for the current run\n",
    "    rid='JUP_SIMPLE_'+getUniqueId()\n",
    "\n",
    "    \n",
    "    # Finally, provenance enhanced graph is prepared:\n",
    "    print prov_profile\n",
    "\n",
    "    ##Initialise provenance storage in files:\n",
    "    #profile_prov_run(graph,None,provImpClass=(ProvenancePE,),componentsType={'CorrCoef':(ProvenancePE,)},username='aspinuso',runId=rid,w3c_prov=False,description=\"provState\",workflowName=\"test_rdwd\",workflowId=\"xx\",save_mode='file')\n",
    "                  # skip_rules={'CorrCoef':{'ro':{'$lt':0}}})\n",
    "\n",
    "    #Initialise provenance storage to service:\n",
    "    profile_prov_run(graph, \n",
    "                     None,\n",
    "                     provImpClass=(ProvenancePE,),\n",
    "                     username=prov_profile['username'],\n",
    "                     runId=rid,\n",
    "                     w3c_prov=prov_profile['w3c_prov'],\n",
    "                     description=prov_profile['description'],\n",
    "                     workflowName=prov_profile['workflowName'],\n",
    "                     workflowId=prov_profile['workflowId'],\n",
    "                     save_mode=prov_profile['save_mode'],\n",
    "                     componentsType=prov_profile['componentsType']\n",
    "                    )\n",
    "                   #skip_rules={'CorrCoef':{'ro':{'$lt':0}}})\n",
    "\n",
    "    #clustersRecorders={'record0':ProvenanceRecorderToFileBulk,'record1':ProvenanceRecorderToFileBulk,'record2':ProvenanceRecorderToFileBulk,'record6':ProvenanceRecorderToFileBulk,'record3':ProvenanceRecorderToFileBulk,'record4':ProvenanceRecorderToFileBulk,'record5':ProvenanceRecorderToFileBulk}\n",
    "    #Initialise provenance storage to sensors and Files:\n",
    "    #profile_prov_run(graph,ProvenanceRecorderToFile,provImpClass=(ProvenancePE,),username='aspinuso',runId=rid,w3c_prov=False,description=\"provState\",workflowName=\"test_rdwd\",workflowId=\"xx\",save_mode='sensor')\n",
    "    #clustersRecorders=clustersRecorders)\n",
    "    \n",
    "    #Initialise provenance storage to sensors and service:\n",
    "    #profile_prov_run(graph,ProvenanceRecorderToService,provImpClass=(ProvenancePE,),username='aspinuso',runId=rid,w3c_prov=False,description=\"provState\",workflowName=\"test_rdwd\",workflowId=\"xx\",save_mode='sensor')\n",
    "   \n",
    "    #Summary view on each component\n",
    "    #profile_prov_run(graph,ProvenanceTimedSensorToService,provImpClass=(ProvenancePE,),username='aspinuso',runId=rid,w3c_prov=False,description=\"provState\",workflowName=\"test_rdwd\",workflowId=\"xx\",save_mode='sensor')\n",
    "   \n",
    "   \n",
    "   \n",
    "    #Configuring provenance feedback-loop\n",
    "    #profile_prov_run(graph,ProvenanceTimedSensorToService,provImpClass=(ProvenancePE,),username='aspinuso',runId=rid,w3c_prov=False,description=\"provState\",workflowName=\"test_rdwd\",workflowId=\"xx\",save_mode='sensor',feedbackPEs=['Source','MaxClique'])\n",
    "   \n",
    "   \n",
    "    #Initialise provenance storage end associate a Provenance type with specific components:\n",
    "    #profile_prov_run(graph,provImpClass=ProvenancePE,componentsType={'Source':(ProvenanceStock,)},username='aspinuso',runId=rid,w3c_prov=False,description=\"provState\",workflowName=\"test_rdwd\",workflowId=\"xx\",save_mode='service')\n",
    "\n",
    "    #\n",
    "    return graph\n",
    "\n",
    "\n",
    "graph=createGraphWithProv()\n",
    "\n",
    "display(graph)"
   ]
  },
  {
   "cell_type": "markdown",
   "metadata": {},
   "source": [
    "The workflow is rerun with provenace enabled."
   ]
  },
  {
   "cell_type": "code",
   "execution_count": 9,
   "metadata": {
    "collapsed": false
   },
   "outputs": [
    {
     "name": "stdout",
     "output_type": "stream",
     "text": [
      "input_simple.json\n",
      "{'collector': [{'input': ['data/newA.nc', 'data/newOut.nc']}]}\n",
      "SETTING NAME: SimpleProcessingPE\n",
      "collector3: read_process\n",
      "collector3: {'input': ['data/newA.nc', 'data/newOut.nc']}\n",
      "Workflow4: Workflow_process\n",
      "{'contact_email_2': 'milka.radojevic@cerfacs.fr', 'contact_email_1': 'christian.page@cerfacs.fr', 'in_var_driving_ensemble_member': 'r1i1p1', 'software_reference': 'ICCLIM Documentation 3.0: https://media.readthedocs.org/pdf/icclim/latest/icclim.pdf', 'keywords': 'CLIP-C,Tier 1,vDTR,rcp85,SMHI-RCA4', 'Conventions': 'CF-1.6', 'in_var_driving_experiment_id': 'rcp85', 'in_var_model_version_id': 'v1', 'in_var_institution_id': 'SMHI', 'version': '2015-06', 'software_project': 'IS-ENES: climate for impact web portal', 'in_var_project_id': 'CORDEX', 'method': 'CLIVAR panel ETCCDI', 'description': 'Tier 1: vDTR. Multi-year period of records.', 'in_var_domain': 'EUR-11', 'in_var_driving_model_id': 'MPI-M-MPI-ESM-LR', 'institution': 'CERFACS', 'geospatial_lon_max': '64.9644', 'institution_url': 'http://www.cerfacs.fr/globc', 'summary': 'CLIPC Tier 1: vDTR. Multi-year period of records.', 'in_var_reference': 'http://www.smhi.se/en/research/research-departments/climate-research-rossby-centre2-552', 'activity': 'CLIP-C project', 'cdm_datatype': 'Grid', 'software': 'ADAGUC WCS Server version 2.0.15'}\n",
      "Write5: WriteFunction\n",
      "collector3: [{'derivationIds': [], 'instanceId': 'collector-Instance--pc150396.knmi.nl-19020-d1f76c66-d3fc-11e6-a7fe-901b0e877023', 'pid': '19020', 'iterationId': 'collector-pc150396.knmi.nl-19020-d1f778fa-d3fc-11e6-a7fe-901b0e877023', 'prov_cluster': 'collector3', 'errors': '', 'parameters': [], 'feedbackIteration': False, 'type': 'lineage', 'annotations': {}, 'username': 'andrej', 'actedOnBehalfOf': 'collector3', 'worker': 'pc150396.knmi.nl', 'mapping': '-f', 'stateful': False, 'startTime': '2017-01-06 10:42:28.925440', '_id': 'collector3_write_pc150396.knmi.nl-19020-d1f84618-d3fc-11e6-a7fe-901b0e877023', 'name': 'collector', 'iterationIndex': 1, 'streams': [{'format': '', 'annotations': [], 'content': [{}], 'location': '', 'id': 'pc150396.knmi.nl-19020-d1f83f60-d3fc-11e6-a7fe-901b0e877023', 'port': 'xarray', 'size': 0}], 'runId': 'JUP_SIMPLE_pc150396.knmi.nl-19020-d1f192d2-d3fc-11e6-a7fe-901b0e877023', 'endTime': '2017-01-06 10:42:28.930652'}]\n",
      "collector3: TO SERVICE ________________ID: climate4impact.eu\n",
      "collector3: Postprocress: (200, '', '{\"inserts\": [\"collector3_write_pc150396.knmi.nl-19020-d1f84618-d3fc-11e6-a7fe-901b0e877023\"], \"success\": true}')\n",
      "Workflow4: [{'derivationIds': [{'DerivedFromDatasetID': 'pc150396.knmi.nl-19020-d1f83f60-d3fc-11e6-a7fe-901b0e877023', 'prov_cluster': 'collector3', 'TriggeredByProcessIterationID': 'collector-pc150396.knmi.nl-19020-d1f778fa-d3fc-11e6-a7fe-901b0e877023', 'port': 'input'}], 'instanceId': 'Workflow-Instance--pc150396.knmi.nl-19020-d1f771b6-d3fc-11e6-a7fe-901b0e877023', 'pid': '19020', 'iterationId': 'Workflow-pc150396.knmi.nl-19020-d1f84cd0-d3fc-11e6-a7fe-901b0e877023', 'prov_cluster': 'Workflow4', 'errors': '', 'parameters': [], 'feedbackIteration': False, 'type': 'lineage', 'annotations': {}, 'username': 'andrej', 'actedOnBehalfOf': 'Workflow4', 'worker': 'pc150396.knmi.nl', 'mapping': '-f', 'stateful': False, 'startTime': '2017-01-06 10:42:28.930868', '_id': 'Workflow4_write_pc150396.knmi.nl-19020-d1f859d2-d3fc-11e6-a7fe-901b0e877023', 'name': 'Workflow', 'iterationIndex': 1, 'streams': [{'format': '', 'annotations': [], 'content': [{'contact_email_2': 'milka.radojevic@cerfacs.fr', 'contact_email_1': 'christian.page@cerfacs.fr', 'in_var_driving_ensemble_member': 'r1i1p1', 'software_reference': 'ICCLIM Documentation 3.0: https://media.readthedocs.org/pdf/icclim/latest/icclim.pdf', 'keywords': 'CLIP-C,Tier 1,vDTR,rcp85,SMHI-RCA4', 'summary': 'CLIPC Tier 1: vDTR. Multi-year period of records.', 'in_var_driving_experiment_id': 'rcp85', 'in_var_model_version_id': 'v1', 'in_var_institution_id': 'SMHI', 'version': '2015-06', 'software_project': 'IS-ENES: climate for impact web portal', 'in_var_project_id': 'CORDEX', 'method': 'CLIVAR panel ETCCDI', 'description': 'Tier 1: vDTR. Multi-year period of records.', 'in_var_domain': 'EUR-11', 'in_var_driving_model_id': 'MPI-M-MPI-ESM-LR', 'institution': 'CERFACS', 'geospatial_lon_max': '64.9644', 'institution_url': 'http://www.cerfacs.fr/globc', 'Conventions': 'CF-1.6', 'in_var_reference': 'http://www.smhi.se/en/research/research-departments/climate-research-rossby-centre2-552', 'activity': 'CLIP-C project', 'cdm_datatype': 'Grid', 'software': 'ADAGUC WCS Server version 2.0.15'}], 'location': '', 'id': 'pc150396.knmi.nl-19020-d1f85504-d3fc-11e6-a7fe-901b0e877023', 'port': 'output', 'size': 0}], 'runId': 'JUP_SIMPLE_pc150396.knmi.nl-19020-d1f192d2-d3fc-11e6-a7fe-901b0e877023', 'endTime': '2017-01-06 10:42:28.931136'}]\n",
      "Workflow4: TO SERVICE ________________ID: climate4impact.eu\n",
      "Workflow4: Postprocress: (200, '', '{\"inserts\": [\"Workflow4_write_pc150396.knmi.nl-19020-d1f859d2-d3fc-11e6-a7fe-901b0e877023\"], \"success\": true}')\n",
      "Write5: [{'derivationIds': [{'DerivedFromDatasetID': 'pc150396.knmi.nl-19020-d1f85504-d3fc-11e6-a7fe-901b0e877023', 'prov_cluster': 'Workflow4', 'TriggeredByProcessIterationID': 'Workflow-pc150396.knmi.nl-19020-d1f84cd0-d3fc-11e6-a7fe-901b0e877023', 'port': 'write'}], 'instanceId': 'Write-Instance--pc150396.knmi.nl-19020-d1f77440-d3fc-11e6-a7fe-901b0e877023', 'pid': '19020', 'iterationId': 'Write-pc150396.knmi.nl-19020-d1f86224-d3fc-11e6-a7fe-901b0e877023', 'prov_cluster': 'Write5', 'errors': '', 'parameters': [], 'feedbackIteration': False, 'type': 'lineage', 'annotations': {}, 'username': 'andrej', 'actedOnBehalfOf': 'Write5', 'worker': 'pc150396.knmi.nl', 'mapping': '-f', 'stateful': False, 'startTime': '2017-01-06 10:42:28.931413', '_id': 'Write5_write_pc150396.knmi.nl-19020-d1fdd0c4-d3fc-11e6-a7fe-901b0e877023', 'name': 'Write', 'iterationIndex': 1, 'streams': [{'format': '', 'annotations': [], 'content': [{}], 'location': '', 'id': 'pc150396.knmi.nl-19020-d1fdb40e-d3fc-11e6-a7fe-901b0e877023', 'port': 'end', 'size': 0}], 'runId': 'JUP_SIMPLE_pc150396.knmi.nl-19020-d1f192d2-d3fc-11e6-a7fe-901b0e877023', 'endTime': '2017-01-06 10:42:28.966902'}]\n",
      "Write5: TO SERVICE ________________ID: climate4impact.eu\n",
      "Write5: Postprocress: (200, '', '{\"inserts\": [\"Write5_write_pc150396.knmi.nl-19020-d1fdd0c4-d3fc-11e6-a7fe-901b0e877023\"], \"success\": true}')\n",
      "SimplePE: Processed 1 iteration.\n"
     ]
    }
   ],
   "source": [
    "runExampleWorkflow()"
   ]
  },
  {
   "cell_type": "markdown",
   "metadata": {
    "collapsed": true
   },
   "source": [
    "The following link requires a local tomcat server to proxy to the provenance depo.\n"
   ]
  },
  {
   "cell_type": "markdown",
   "metadata": {
    "collapsed": true
   },
   "source": [
    "http://localhost:8180/provenance-explorer/html/view.jsp"
   ]
  },
  {
   "cell_type": "markdown",
   "metadata": {},
   "source": [
    "An example of the above W3C prov xml can be viewed using:\n",
    "\n",
    "https://provenance.ecs.soton.ac.uk/store/documents/115532.svg"
   ]
  },
  {
   "cell_type": "markdown",
   "metadata": {},
   "source": [
    "The End"
   ]
  }
 ],
 "metadata": {
  "kernelspec": {
   "display_name": "Python 2",
   "language": "python",
   "name": "python2"
  },
  "language_info": {
   "codemirror_mode": {
    "name": "ipython",
    "version": 2
   },
   "file_extension": ".py",
   "mimetype": "text/x-python",
   "name": "python",
   "nbconvert_exporter": "python",
   "pygments_lexer": "ipython2",
   "version": "2.7.11"
  }
 },
 "nbformat": 4,
 "nbformat_minor": 2
}
