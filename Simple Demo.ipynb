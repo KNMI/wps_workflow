{
 "cells": [
  {
   "cell_type": "markdown",
   "metadata": {},
   "source": [
    "# Demonstrating Simple workflow with XARRAY\n"
   ]
  },
  {
   "cell_type": "code",
   "execution_count": 1,
   "metadata": {
    "collapsed": true
   },
   "outputs": [],
   "source": [
    "import xarray\n",
    "import netCDF4\n",
    "import json\n",
    "\n",
    "from dispel4py.workflow_graph import WorkflowGraph \n",
    "from dispel4py.provenance import *\n",
    "\n",
    "import time\n",
    "import random\n",
    "\n",
    "from dispel4py.base import create_iterative_chain, ConsumerPE, IterativePE, SimpleFunctionPE\n",
    "\n",
    "import matplotlib.pyplot as plt\n",
    "import traceback"
   ]
  },
  {
   "cell_type": "markdown",
   "metadata": {
    "collapsed": false
   },
   "source": [
    "Simple Workflow, xarray in xarray out."
   ]
  },
  {
   "cell_type": "code",
   "execution_count": 2,
   "metadata": {
    "collapsed": true
   },
   "outputs": [],
   "source": [
    "infile = 'input_simple.json'"
   ]
  },
  {
   "cell_type": "markdown",
   "metadata": {},
   "source": [
    "The workflow is defined."
   ]
  },
  {
   "cell_type": "code",
   "execution_count": 3,
   "metadata": {
    "collapsed": false
   },
   "outputs": [
    {
     "name": "stdout",
     "output_type": "stream",
     "text": [
      "SETTING NAME: Read\n",
      "SETTING NAME: Workflow\n",
      "SETTING NAME: Write\n"
     ]
    },
    {
     "data": {
      "image/png": "[encoded data removed]"
     },
     "metadata": {},
     "output_type": "display_data"
    }
   ],
   "source": [
    "\n",
    "\n",
    "# project: CLIP_C\n",
    "# authors: Alessandro and Andrej\n",
    "# CLIPC combine function using dispel4py and running over jupyter\n",
    "\n",
    "#print __dir__\n",
    "\n",
    "class Read(GenericPE):\n",
    "    \n",
    "    def __init__(self):\n",
    "        GenericPE.__init__(self)\n",
    "        self._add_input('input')\n",
    "        self._add_output('xarray')\n",
    "\n",
    "    def _process(self,inputs):\n",
    "        self.log('read_process')\n",
    "     \n",
    "        self.log(inputs)\n",
    "\n",
    "        ds = xarray.open_dataset(inputs['input'][0])\n",
    "    \n",
    "        self.write( 'xarray' , (ds , inputs['input'][1]) )\n",
    "\n",
    "class Write(GenericPE):\n",
    "    \n",
    "    def __init__(self):\n",
    "        GenericPE.__init__(self)\n",
    "        self._add_input('write')\n",
    "        self._add_output('end')\n",
    "        \n",
    "    def _process(self,inputs):\n",
    "        self.log('WriteFunction')\n",
    "        \n",
    "        output_nc = inputs['write'][0]\n",
    "        \n",
    "        output_nc.to_netcdf( inputs['write'][1] )\n",
    "        \n",
    "        #print output_nc.keys()\n",
    "        \n",
    "        output_nc.vDTR.plot()\n",
    "       \n",
    "        self.write('end', inputs )\n",
    "        \n",
    "        \n",
    "class Workflow(GenericPE):\n",
    "        \n",
    "    def __init__(self):\n",
    "        GenericPE.__init__(self)\n",
    "        self._add_input('input')\n",
    "        self._add_output('output')\n",
    "        \n",
    "    def _process(self,inputs):\n",
    "        self.log('Workflow_process')\n",
    "        \n",
    "        #self.log(inputs)\n",
    "        \n",
    "        #nc = inputs['input'][0]\n",
    "        nc = inputs['input'][0]\n",
    "        #self.log(nc)\n",
    "        \n",
    "        #\n",
    "        self.write('output', (nc , inputs['input'][1] ))\n",
    "\n",
    "\n",
    "readX  = Read()\n",
    "readX.name = 'collector'\n",
    "\n",
    "wf     = Workflow()       \n",
    "\n",
    "writeX = Write()\n",
    "\n",
    "\n",
    "#Initialise the graph\n",
    "graph = WorkflowGraph()    \n",
    "graph.connect(readX ,'xarray'   , wf     ,'input')\n",
    "graph.connect(wf    ,'output'   , writeX , 'write')\n",
    "\n",
    "graph.flatten()\n",
    "\n",
    "from dispel4py.visualisation import display\n",
    "\n",
    "display(graph)"
   ]
  },
  {
   "cell_type": "code",
   "execution_count": 4,
   "metadata": {
    "collapsed": false,
    "scrolled": false
   },
   "outputs": [
    {
     "name": "stdout",
     "output_type": "stream",
     "text": [
      "input_simple.json\n",
      "{u'collector': [{u'input': [u'data/newA.nc', u'data/newOut.nc']}]}\n",
      "SETTING NAME: SimpleProcessingPE\n",
      "collector0: read_process\n",
      "collector0: {u'input': [u'data/newA.nc', u'data/newOut.nc']}\n",
      "Workflow1: Workflow_process\n",
      "Write2: WriteFunction\n",
      "SimplePE: Processed 1 iteration.\n"
     ]
    },
    {
     "data": {
      "text/plain": [
       "{'Write2': {'end': [{'write': (<xarray.Dataset>\n",
       "     Dimensions:  (time: 1, x: 424, y: 412)\n",
       "     Coordinates:\n",
       "       * x        (x) float64 -44.62 -44.36 -44.1 -43.84 -43.58 -43.32 -43.06 ...\n",
       "       * y        (y) float64 21.98 22.1 22.23 22.35 22.47 22.59 22.72 22.84 ...\n",
       "       * time     (time) datetime64[ns] 2099-01-16\n",
       "     Data variables:\n",
       "         vDTR     (time, y, x) float64 nan nan nan nan nan nan nan nan nan nan ...\n",
       "         crs      |S1 ''\n",
       "     Attributes:\n",
       "         description: Tier 1: vDTR. Multi-year period of records.\n",
       "         keywords: CLIP-C,Tier 1,vDTR,rcp85,SMHI-RCA4\n",
       "         activity: CLIP-C project\n",
       "         method: CLIVAR panel ETCCDI\n",
       "         software: ADAGUC WCS Server version 2.0.15\n",
       "         software_project: IS-ENES: climate for impact web portal\n",
       "         software_reference: ICCLIM Documentation 3.0: https://media.readthedocs.org/pdf/icclim/latest/icclim.pdf\n",
       "         institution: CERFACS\n",
       "         institution_url: http://www.cerfacs.fr/globc\n",
       "         contact_email_1: christian.page@cerfacs.fr\n",
       "         contact_email_2: milka.radojevic@cerfacs.fr\n",
       "         summary: CLIPC Tier 1: vDTR. Multi-year period of records.\n",
       "         in_var_project_id: CORDEX\n",
       "         in_var_institution_id: SMHI\n",
       "         in_var_model_version_id: v1\n",
       "         in_var_driving_model_id: MPI-M-MPI-ESM-LR\n",
       "         in_var_driving_ensemble_member: r1i1p1\n",
       "         in_var_driving_experiment_id: rcp85\n",
       "         in_var_domain: EUR-11\n",
       "         in_var_reference: http://www.smhi.se/en/research/research-departments/climate-research-rossby-centre2-552\n",
       "         cdm_datatype: Grid\n",
       "         geospatial_lon_max: 64.9644\n",
       "         version: 2015-06\n",
       "         Conventions: CF-1.6, u'data/newOut.nc')}]}}"
      ]
     },
     "execution_count": 4,
     "metadata": {},
     "output_type": "execute_result"
    }
   ],
   "source": [
    "with open(infile) as data_file:    \n",
    "    input_data = json.load(data_file)\n",
    "\n",
    "print infile                                                     \n",
    "print input_data                   \n",
    "                                                     \n",
    "#Launch in simple process\n",
    "simple_process.process_and_return(graph, input_data)"
   ]
  },
  {
   "cell_type": "code",
   "execution_count": 5,
   "metadata": {
    "collapsed": false
   },
   "outputs": [
    {
     "name": "stderr",
     "output_type": "stream",
     "text": [
      "/usr/lib64/python2.7/site-packages/matplotlib/collections.py:590: FutureWarning: elementwise comparison failed; returning scalar instead, but in the future will perform elementwise comparison\n",
      "  if self._edgecolors == str('face'):\n"
     ]
    }
   ],
   "source": [
    "plt.show()    "
   ]
  }
 ],
 "metadata": {
  "kernelspec": {
   "display_name": "Python 2",
   "language": "python",
   "name": "python2"
  },
  "language_info": {
   "codemirror_mode": {
    "name": "ipython",
    "version": 2
   },
   "file_extension": ".py",
   "mimetype": "text/x-python",
   "name": "python",
   "nbconvert_exporter": "python",
   "pygments_lexer": "ipython2",
   "version": "2.7.11"
  }
 },
 "nbformat": 4,
 "nbformat_minor": 2
}
