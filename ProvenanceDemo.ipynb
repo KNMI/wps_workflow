{
 "cells": [
  {
   "cell_type": "markdown",
   "metadata": {},
   "source": [
    "#  Provenance integration in netcdf/xarray Data-Intensive workflows.\n",
    "\n",
    "\n",
    "#### Authors: Alessandro Spinuso and Andrej Mihajlovski, \n",
    "\n",
    "####  Royal Netherlands Meteorological Institure (KNMI)\n",
    "\n",
    "\n",
    "The following \"Live\" notebook demonstrates a simple workflow implemented with a data-intensive processing library (dispel4py), that has been extended with a configurable and programmable provenance tracking framework.\n",
    "\n",
    "## Management Highligts, S-PROV Towards reproduciblity as a service\n",
    "<ul>\n",
    "<li>\n",
    "The provenance information produced can be tuned and adapted to computational, precision and contextualisation requirements</li>\n",
    "<li>\n",
    "The freamework allows for the traceability of data-reuse across different executions, methods and users</li>\n",
    "<li>The provenance can be stored as files or sent at run-time to a custom external repository</li>\n",
    "<li>The repository can be searched and explored via interactive tools</li> \n",
    "<li>The provenance model is designed around an hybrid data-flow model, which takes into account data-streams and concrente data resourcese. eg. file location, webservices etc.</li>\n",
    "<li>The lineage can be exported from the repository in W3C PROV format. This facilitates the production of interoperabile reports and data-curation tasks. For instance, The provenance related to specific data can be stored in W3C-PROV XML format into strucutred file formats (NetCDF) as well as istitutional and general-purpose citable data-repositories.</li>\n",
    "</ul>\n",
    "\n",
    "## Demonstration outline\n",
    "\n",
    "### 1 - Workflow specification and execution\n",
    "\n",
    "<ol>\n",
    "  <li>Define the <i><b>Classes</b></i> of the <i><b>Workflow Components</b></i></li>\n",
    "  <li>Construct the <i><b>Workflow</b></i> application</li>\n",
    "  <li>Prepare the Input</li>\n",
    "  <li>Visualise and run the workflow without provenance</li>\n",
    "</ol>\n",
    "\n",
    "### 2 - Provenance Types, Profiling and contextualisation\n",
    "\n",
    "<ol>\n",
    "  <li>Define the <i><b>Provenance Type</b></i> to be used within the workflow</li>\n",
    "  <li><i><b>Profile</b></i> the workfow for provenance tracking</li>\n",
    "  <li>Run the workflow with provenance activatied</li>\n",
    "  <li>Export and embed provenance within NetCDF results</li>\n",
    "  <li>Explore the resulting provenance with interactive and static visualsations</li>\n",
    "</ol>\n",
    "\n",
    "### 3 - Data-reuse traceability. \n",
    "<ol>\n",
    "  <li>Change the input and demostrate consistency of provenance for data-ruse across multiple workflow executions</li>\n",
    "  <li>Discuss more complex use cases and configuration options</li>\n",
    "</ol>\n",
    "\n",
    "### 4 - Informal Evaluation\n",
    "\n",
    "SWOT form:\n",
    "\n",
    "https://docs.google.com/presentation/d/10xlRYytR7NB9iC19T29BD-rW77ZAtnjtlukMJDP_MIs/edit?usp=sharing\n",
    "\n",
    "\n",
    "## 1 - Workflow specification and execution\n",
    "\n",
    "\n",
    "<ul>\n",
    "<li>The dispel4py framework is utilised for the workflows</li>\n",
    "<li>Xarray for inmemory management of netcdf/opendap data.</li>\n",
    "<li>Matplotlib for visualisation.</li>\n",
    "<li>W3C for provenance representation.</li>\n",
    "</ul>"
   ]
  },
  {
   "cell_type": "code",
   "execution_count": null,
   "metadata": {
    "collapsed": true
   },
   "outputs": [],
   "source": [
    "import xarray\n",
    "#import netCDF4\n",
    "import json\n",
    "\n",
    "from dispel4py.workflow_graph import WorkflowGraph \n",
    "from dispel4py.provenance import *\n",
    "\n",
    "from collections import OrderedDict\n",
    "import time\n",
    "import random\n",
    "\n",
    "from dispel4py.base import create_iterative_chain, ConsumerPE, IterativePE, SimpleFunctionPE\n",
    "\n",
    "import matplotlib.pyplot as plt\n",
    "import traceback\n",
    "\n",
    "from pprint import pprint"
   ]
  },
  {
   "cell_type": "markdown",
   "metadata": {
    "collapsed": false
   },
   "source": [
    "Simple Workflow, xarray in xarray out. \n",
    "The generic processing elements are defined below. the <i>GenericPE</i> bellongs to the dispel4py framework. It allows data-objects to be passed as inputs and outputs. The <i>Components</i> are linked and visualised via the workflow_graph module.\n",
    "\n",
    "### 1.1 The three Workflow Components:\n",
    "\n",
    "<ol>\n",
    "<li>- Read, xarray is read into memory.</li>\n",
    "<li>- ANALYSIS, xarray is processed/passed to output (dummy, no real changes in the example)</li>\n",
    "<li>- Write, xarray is visualised.</li>\n",
    "</ol>"
   ]
  },
  {
   "cell_type": "code",
   "execution_count": null,
   "metadata": {
    "collapsed": false
   },
   "outputs": [],
   "source": [
    "class Read(GenericPE):\n",
    "    \n",
    "    def __init__(self):\n",
    "        GenericPE.__init__(self)\n",
    "        self._add_input('input')\n",
    "        self._add_output('xarray')\n",
    "\n",
    "    def _process(self,inputs):\n",
    "        self.log('Read_Process')\n",
    "     \n",
    "        self.log(inputs)\n",
    "        \n",
    "        inputLocation = inputs['input'][0]\n",
    "\n",
    "        ds = xarray.open_dataset( inputLocation )\n",
    "    \n",
    "        self.write( 'xarray' , (ds , inputs['input'][1]) , location=inputLocation )\n",
    "\n",
    "            \n",
    "class Write(IterativePE):\n",
    "    \n",
    "    def __init__(self):\n",
    "        IterativePE.__init__(self)\n",
    "        #self._add_input('input')\n",
    "        #self._add_output('location')\n",
    "        \n",
    "    def _process(self,inputs):\n",
    "        self.log('Write_Function')\n",
    "        \n",
    "        outputLocation = inputs[1]\n",
    "        \n",
    "        inputs[0].to_netcdf( outputLocation )\n",
    "                \n",
    "        self.write('location', outputLocation,location=outputLocation )\n",
    "        \n",
    "        \n",
    "class Analysis(GenericPE):\n",
    "        \n",
    "    def __init__(self):\n",
    "        GenericPE.__init__(self)\n",
    "        self._add_input('input')\n",
    "        self._add_output('output')\n",
    "        \n",
    "    def _process(self,inputs):\n",
    "        self.log('Workflow_process')\n",
    "        \n",
    "        #self.log(inputs)\n",
    "        \n",
    "        #nc = inputs['input'][0]\n",
    "        nc = inputs['input'][0]\n",
    "        #self.log(nc)\n",
    "        #\n",
    "        self.write('output', (nc , inputs['input'][1] ))\n",
    "\n",
    "\n",
    "\n",
    "\n",
    "\n"
   ]
  },
  {
   "cell_type": "markdown",
   "metadata": {},
   "source": [
    "### 1.2 Construct the Workflow application\n",
    "\n",
    "Instantiates the Components and combines them in a workflow graph which gets eventually visualised"
   ]
  },
  {
   "cell_type": "code",
   "execution_count": null,
   "metadata": {
    "collapsed": false
   },
<<<<<<< HEAD
   "outputs": [],
=======
   "outputs": [
    {
     "name": "stdout",
     "output_type": "stream",
     "text": [
      "SETTING NAME: Read\n",
      "SETTING NAME: Analysis\n",
      "SETTING NAME: Write\n"
     ]
    },
    {
     "data": {
      "image/png": "iVBORw0KGgoAAAANSUhEUgAAAIMAAAFACAYAAACfls/IAAAAAXNSR0IArs4c6QAAMGdJREFUeAHt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\nUqGr2Jk9MRR7fFP17v8B6yu1jQ44+8QAAAAASUVORK5CYII=\n"
     },
     "metadata": {},
     "output_type": "display_data"
    }
   ],
>>>>>>> a6fe0a503b7f6a1ec078923b10c7778791a0db08
   "source": [
    "\n",
    "#Initialise the graph\n",
    "def createWorkflowGraph():\n",
    "    readX  = Read()\n",
    "    readX.name = 'Collector'\n",
    "\n",
    "    analyse   = Analysis()\n",
    "    analyse.name    = 'ANALYSIS'\n",
    "    analyse.parameters = { 'filter': 10 }\n",
    "\n",
    "    writeX = Write()\n",
    "    writeX.name = 'StoreFile'\n",
    "    \n",
    "    \n",
    "    graph = WorkflowGraph()    \n",
    "    graph.connect(readX ,'xarray'   , analyse     ,'input')\n",
    "    graph.connect(analyse    ,'output'   , writeX , 'input')\n",
    "\n",
    "    return graph\n",
    "\n",
    "\n",
    "\n",
    "graph = createWorkflowGraph()\n",
    "\n",
    "\n",
    "from dispel4py.visualisation import display\n",
    "display(graph)\n",
    "\n",
    "\n"
   ]
  },
  {
   "cell_type": "markdown",
   "metadata": {},
   "source": [
    "### 1.3 Specify the Input\n",
    "\n",
    "A simple json representation is used to define initial input data for each named Component of the workflow.\n",
    "Every component can recieve a list of inputs. These will be streamed serially or in parallel, depending from the execution mode"
   ]
  },
  {
   "cell_type": "code",
   "execution_count": null,
   "metadata": {
    "collapsed": true
   },
   "outputs": [],
   "source": [
    "input_data = { \n",
    "                \n",
    "                'Collector': [ { 'input' : [ 'http://opendap.knmi.nl/knmi/thredds/dodsC/CLIPC/cmcc/SWE/SWE_ophidia-0-10-1_CMCC_GlobSnow-SWE-L3B_monClim_19791001-20080701_1979-2008.nc',\n",
    "                                'data/newA.nc']}]\n",
    "    \n",
    "                #'Collector': [ { 'input': [ 'data/newA.nc', 'data/newB.nc']} ]     \n",
    "                #'Collector': [ { 'input': [ 'data/newB.nc', 'data/newC.nc']}]\n",
    "            }\n",
    "\n"
   ]
  },
  {
   "cell_type": "markdown",
   "metadata": {},
   "source": [
    "### 1.3 Run the Workflow\n",
    "\n"
   ]
  },
  {
   "cell_type": "code",
   "execution_count": null,
   "metadata": {
    "collapsed": false,
    "scrolled": false
   },
<<<<<<< HEAD
   "outputs": [],
=======
   "outputs": [
    {
     "name": "stdout",
     "output_type": "stream",
     "text": [
      "{'Collector': [{'input': ['http://opendap.knmi.nl/knmi/thredds/dodsC/CLIPC/cmcc/SWE/SWE_ophidia-0-10-1_CMCC_GlobSnow-SWE-L3B_monClim_19791001-20080701_1979-2008.nc', 'data/newA.nc']}]}\n",
      "SETTING NAME: SimpleProcessingPE\n",
      "Collector0: Read_Process\n",
      "Collector0: {'input': ['http://opendap.knmi.nl/knmi/thredds/dodsC/CLIPC/cmcc/SWE/SWE_ophidia-0-10-1_CMCC_GlobSnow-SWE-L3B_monClim_19791001-20080701_1979-2008.nc', 'data/newA.nc']}\n",
      "ANALYSIS1: Workflow_process\n",
      "StoreFile2: Write_Function\n",
      "SimplePE: Processed 1 iteration.\n",
      "\n",
      " RESULT: {'StoreFile2': {'location': ['data/newA.nc']}}\n"
     ]
    }
   ],
>>>>>>> a6fe0a503b7f6a1ec078923b10c7778791a0db08
   "source": [
    "global result\n",
    "\n",
    "def runExampleWorkflow():\n",
    "                                                     \n",
    "    print input_data                   \n",
    "\n",
    "    #Launch in simple process\n",
    "    result = simple_process.process_and_return(graph, input_data)\n",
    "    print \"\\n RESULT: \"+str(result)\n",
    "\n",
    "runExampleWorkflow()"
   ]
  },
  {
   "cell_type": "markdown",
   "metadata": {},
   "source": [
    "## 2 - Provenance Types, Profiling and contextualisation\n",
    "\n",
    "### 2.1 Define a Provenance Type\n",
    "\n",
    "The <i>Provenance Type</i> defined below will be used to extend specific workflow components, enabling special provenance tracking properties for <i>NetCDF/xarray</i> formats.\n",
    "\n",
    "\n",
    "<ul>\n",
    "<li>\n",
    "<b><i>makeUniqueId:</i></b> \n",
    "Generates and returns a <i>uuid</i>. This can be implemented to adhere to the hosting infrastructure best-practices.</li>\n",
    "<li>\n",
    "<i><b>extractExternalInputDataId:</b></i>\n",
    "This method is used by the provenance type to extract the id of the incoming data. Its use is handy especially when a workflow component ingests files that have been produced by other workflows and that are represented by self-contained and structured data formats.  For instance, in NetCDF where data and metadata can be packaged together according to community standards, this method extracts and returns the id of the external resource, allowing the framework to use it in the current run to represent new dependencies. A customised implementation of this method for a provenance type that deals with domain-specific data formats, ensures the linkage and therefore the consistent continuation of provenance traces across workflow executions. </li>\n",
    "<li><b><i>extractItemMetadata:</i></b>\n",
    "This methods enables the configuration of the provenance for a particular domain, user or infrastructure requirement. It extracts metadata from the data written on a output channel and includes it as a detailed description of the <i>Data</i> entity within the provenance model.</li>\n",
    "<li><b><i>applyFlowResetPolicy (Advanced):</i></b>\n",
    "This method is invoked by each iteration when a decision has to be made on the required lineage pattern. The framework automatically passes information whether the invocation has produced any output or not (<i>on-void-iterations</i>). The method, according to predefined rules, provides indications on either discarding the current input data or to include it into the <i>StateCollection</i> automatically, capturing its contribution to the next invocation through a <i>stateful</i>operations. \n",
    "In our implementation, basic provenance types such as <i>StatefulType</i> and <i>StatelessType</i> are made available and can be used accordingly the specific needs.\n",
    "</li>\n",
    "\n",
    "</ul>\n"
   ]
  },
  {
   "cell_type": "code",
   "execution_count": null,
   "metadata": {
    "collapsed": false
   },
   "outputs": [],
   "source": [
    "class netcdfProvType(ProvenancePE):\n",
    "    def __init__(self):\n",
    "        ProvenancePE.__init__(self)\n",
    "    \n",
    "    def extractExternalInputDataId(self,data, input_port):\n",
    "        #Extract here the id from the data (type specific):\n",
    "\n",
    "        self.log('ANDREJ.extractExternalInputDataId')\n",
    "        #self.log(data)\n",
    "        \n",
    "        try:\n",
    "            #ds = xarray.open_dataset(data['input'][0])\n",
    "            ds = xarray.open_dataset(data[0])\n",
    "            id = ds.attrs['id']\n",
    "            \n",
    "        except Exception, err:\n",
    "            id = str(uuid.uuid1())\n",
    "            self.log(str(err))\n",
    "        #Return\n",
    "        return id\n",
    "    \n",
    "    \n",
    "    def makeUniqueId(self, data, output_port):      \n",
    "        \n",
    "        self.log('ANDREJ.makeUniqueId')\n",
    "        #self.log(kwargs)\n",
    "        \n",
    "        #produce the id\n",
    "        id=str(uuid.uuid1())\n",
    "            \n",
    "        ''' nc data '''\n",
    "        xa = data[0]\n",
    "        \n",
    "        ''' unique as defined by the community standard '''\n",
    "        xa.attrs['id'] = id\n",
    "        \n",
    "        #Return\n",
    "        return id \n",
    "    \n",
    "\n",
    "    \n",
    "    ''' extracts xarray metadata '''\n",
    "    def extractItemMetadata(self,data, output_port):\n",
    "        \n",
    "        self.log('ANDREJ.extractItemMetadata')\n",
    "        #self.log(data)\n",
    "        \n",
    "        try:            \n",
    "            nc_meta = OrderedDict()\n",
    "            \n",
    "            ''' cycle throug all attributes, dimensions and variables '''\n",
    "            xa = data[0]\n",
    "                        \n",
    "            # dataset meta\n",
    "            nc_meta['Dimensions'] = str( dict(xa.dims)) \n",
    "            nc_meta['Type'] = str(type(xa))\n",
    "            \n",
    "            # global attr\n",
    "            for k , v in xa.attrs.items():\n",
    "                nc_meta[str(k).replace(\".\",\"_\")] = str(v)\n",
    "            # vars attr   \n",
    "            for n , i in xa.data_vars.items():\n",
    "                for k , v in i.attrs.items():\n",
    "                    nc_meta[n+\"_\"+str(k).replace(\".\",\"_\")] = str(v)\n",
    "            \n",
    "            #pprint(nc_meta)\n",
    "        \n",
    "            metadata = [nc_meta]\n",
    "            \n",
    "            return metadata\n",
    "                             \n",
    "        except Exception, err:\n",
    "            self.log(\"Applying default metadata extraction:\"+str(traceback.format_exc()))\n",
    "            self.error=self.error+\"Extract Metadata error: \"+str(traceback.format_exc())\n",
    "            return super(netcdfProvType, self).extractItemMetadata(data);\n",
    "        "
   ]
  },
  {
   "cell_type": "markdown",
   "metadata": {},
   "source": [
    "### 2.2 Profile the workfow for provenance tracking\n",
    "\n",
    "Once the Provenance types have been defined, these are used to configure, or profile, a workflow execution to comply with the desired provenance collection requirements.  Below we illustrate the framework method and the details of this approach.\n",
    "\n",
    "<ul>\n",
    "\n",
    "<li><b><i>profile_prov_run</i></b> With this method, the users of the workflow can profile their run for provenance by indicating which types to apply to each component. Users can also chose where to store the metadata, locally to the file system or to a remote service. These operations can be performed in bulks, with different impacts on the overall overhead and on the experienced rapidity of the access of the lineage information. Additional details on the proposed remote provenance storage and access service will be provided in Chapter V. Finally, also general information about the attribution of the run, such as <i>username, run_id, description, workflow_name, workflow_id</i> are captured and included within the provenance traces.\n",
    "</li>\n",
    "<li><b><i>Skip-Rules (Advanced)</i></b>\n",
    "Users can tune the scale of the records produced by indicating in the above method a set of <i>skip-rules</i> for every component.This functionality allows users to specify rules to control the data-driven production of the provenance declaratively. The approach takes advantage of the contextualisation applied by the provenance types, which extract domain and experimental metadata, and evaluates their value against simple <i>skip-rule</i> of this kind:\n",
    "</li>\n",
    "</ul>\n",
    "\n",
    "\n"
   ]
  },
  {
   "cell_type": "code",
   "execution_count": null,
   "metadata": {
    "collapsed": false
   },
   "outputs": [],
   "source": [
    "skip_rules={\"ANALYSIS\":{\"term\":{\"$gt\":0,\"$lt\":100}}}"
   ]
  },
  {
   "cell_type": "markdown",
   "metadata": {},
   "source": [
    "#### Defining provenance profile\n",
    "\n",
    "A high JSON 'template' describing the provenance profile for a specific run."
   ]
  },
  {
   "cell_type": "code",
   "execution_count": null,
   "metadata": {
    "collapsed": false
   },
   "outputs": [],
   "source": [
    "prov_profile =  {\n",
    "                    'username': \"aspinuso\", \n",
    "                    'description' : \"provdemo basic\",\n",
    "                    'workflowName': \"demo_ecmwf\"      ,\n",
    "                    'workflowId'  : \"workflow process\",\n",
    "                    'save_mode'   : 'service'         ,\n",
    "                    # Defines the use of the ProvenancePE with the Workflow Component\n",
    "                    'componentsType' : {'ANALYSIS':(netcdfProvType,) , 'Collector':(netcdfProvType,)},\n",
    "                    'skip_rules': skip_rules\n",
    "                } \n"
   ]
  },
  {
   "cell_type": "markdown",
   "metadata": {},
   "source": [
    "#### Repository Endpoints \n",
    "\n",
    "The REPOS_URL is the target provenence repository. \n",
    "Used for VERCE (Seismo), CLIPC (C3S) and Climate4Impact (Climate IS-ENES)"
   ]
  },
  {
   "cell_type": "code",
   "execution_count": null,
   "metadata": {
    "collapsed": false
   },
   "outputs": [],
   "source": [
    "#Store via service\n",
    "#ProvenancePE.REPOS_URL='http://127.0.0.1:8082/workflow/insert'\n",
    "ProvenancePE.REPOS_URL='http://climate4impact.eu/prov/workflow/insert'\n",
    "\n",
    "#Export data lineage via service (REST GET Call on dataid resource)\n",
    "#ProvenancePE.PROV_EXPORT_URL='http://127.0.0.1:8082/workflow/export/data/'\n",
    "ProvenancePE.PROV_EXPORT_URL=\"http://climate4impact.eu/prov/workflow/export/data/\" \n",
    "\n",
    "\n",
    "#Store to local path\n",
    "ProvenancePE.PROV_PATH='./prov-files/'\n",
    "\n",
    "#Size of the provenance bulk of documents before sending to file, service or sensor\n",
    "ProvenancePE.BULK_SIZE=20\n"
   ]
  },
  {
   "cell_type": "markdown",
   "metadata": {},
   "source": [
    "#### Execute Dynamic Profiling\n",
    "\n",
    "The application is then profiled with the desired provenance types and attribution parmeters."
   ]
  },
  {
   "cell_type": "code",
   "execution_count": null,
   "metadata": {
    "collapsed": false
   },
<<<<<<< HEAD
   "outputs": [],
=======
   "outputs": [
    {
     "name": "stdout",
     "output_type": "stream",
     "text": [
      "SETTING NAME: Read\n",
      "SETTING NAME: Analysis\n",
      "SETTING NAME: Write\n",
      "{'username': 'aspinuso', 'workflowId': 'workflow process', 'description': 'provdemo basic', 'save_mode': 'service', 'skip_rules': {'ANALYSIS': {'term': {'$gt': 0, '$lt': 100}}}, 'workflowName': 'demo_ecmwf', 'componentsType': {'Collector': (<class '__main__.netcdfProvType'>,), 'ANALYSIS': (<class '__main__.netcdfProvType'>,)}}\n",
      "Change grouping implementation \n",
      "Change grouping implementation \n",
      "Injecting provenance to: ANALYSIS Original type: (<class 'dispel4py.core.GenericPE'>,)\n",
      "SETTING NAME: netcdfProvType\n",
      "ANALYSIS {'term': {'$gt': 0, '$lt': 100}}\n",
      "Injecting provenance to: ANALYSIS Transoformed: (<class '__main__.netcdfProvType'>, <class '__main__.Analysis'>)\n",
      "Change grouping implementation \n",
      "Injecting provenance to: Collector Original type: (<class 'dispel4py.core.GenericPE'>,)\n",
      "SETTING NAME: netcdfProvType\n",
      "Injecting provenance to: Collector Transoformed: (<class '__main__.netcdfProvType'>, <class '__main__.Read'>)\n",
      "Change grouping implementation \n",
      "Injecting provenance to: StoreFile Original type: (<class 'dispel4py.base.IterativePE'>,)\n",
      "SETTING NAME: ProvenancePE\n",
      "Injecting provenance to: StoreFile Transoformed: (<class 'dispel4py.provenance.ProvenancePE'>, <class '__main__.Write'>)\n",
      "SETTING NAME: NewWorkflowRun\n",
      "SETTING NAME: IterativePE\n",
      "Inputs: {'NewWorkflowRun': [{'input': 'None'}]}\n",
      "SETTING NAME: SimpleProcessingPE\n",
      "NewWorkflowRun6: None\n",
      "NewWorkflowRun6: BUILDING INITIAL DERIVATION\n",
      "NewWorkflowRun6: STORING WORKFLOW RUN METADATA\n",
      "NewWorkflowRun6: Postprocress: (200, '', '{\"inserts\": [\"JUP_SIMPLE_orfeus-as-7677-56ac3c68-dccd-11e6-a46a-f45c89acf865\"], \"success\": true}')\n",
      "SimplePE: Processed 1 iteration.\n",
      "Outputs: {}\n"
     ]
    },
    {
     "data": {
      "image/png": "iVBORw0KGgoAAAANSUhEUgAAAIMAAAFACAYAAACfls/IAAAAAXNSR0IArs4c6QAAMG1JREFUeAHt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\ne3xT9c4TQyp0FTuzJ4Zij2+q3v0X0YbiQm32hQ4AAAAASUVORK5CYII=\n"
     },
     "metadata": {},
     "output_type": "display_data"
    }
   ],
>>>>>>> a6fe0a503b7f6a1ec078923b10c7778791a0db08
   "source": [
    "def createGraphWithProv():\n",
    "    \n",
    "    graph=createWorkflowGraph()\n",
    "    #Location of the remote repository for runtime updates of the lineage traces. Shared among ProvenanceRecorder subtypes\n",
    "\n",
    "    # Ranomdly generated unique identifier for the current run\n",
    "    rid='JUP_SIMPLE_'+getUniqueId()\n",
    "\n",
    "    \n",
    "    # Finally, provenance enhanced graph is prepared:\n",
    "    print prov_profile\n",
    "\n",
    "     \n",
    "    #Initialise provenance storage to service:\n",
    "    profile_prov_run(graph, \n",
    "                     provImpClass=(ProvenancePE,),\n",
    "                     username=prov_profile['username'],\n",
    "                     runId=rid,\n",
    "                     description=prov_profile['description'],\n",
    "                     workflowName=prov_profile['workflowName'],\n",
    "                     workflowId=prov_profile['workflowId'],\n",
    "                     save_mode=prov_profile['save_mode'],\n",
    "                     componentsType=prov_profile['componentsType'],\n",
    "                     skip_rules=prov_profile['skip_rules']\n",
    "                    )\n",
    "                   \n",
    "\n",
    "    #clustersRecorders={'record0':ProvenanceRecorderToFileBulk,'record1':ProvenanceRecorderToFileBulk,'record2':ProvenanceRecorderToFileBulk,'record6':ProvenanceRecorderToFileBulk,'record3':ProvenanceRecorderToFileBulk,'record4':ProvenanceRecorderToFileBulk,'record5':ProvenanceRecorderToFileBulk}\n",
    "       #Initialise provenance storage end associate a Provenance type with specific components:\n",
    "    #profile_prov_run(graph,provImpClass=ProvenancePE,componentsType={'Source':(ProvenanceStock,)},username='aspinuso',runId=rid,w3c_prov=False,description=\"provState\",workflowName=\"test_rdwd\",workflowId=\"xx\",save_mode='service')\n",
    "\n",
    "    #\n",
    "    return graph\n",
    "\n",
    "\n",
    "graph=createGraphWithProv()\n",
    "\n",
    "display(graph)"
   ]
  },
  {
   "cell_type": "markdown",
   "metadata": {},
   "source": [
    "### 2.3 Run the workflow with provenance activatied"
   ]
  },
  {
   "cell_type": "code",
   "execution_count": null,
   "metadata": {
    "collapsed": false
   },
   "outputs": [],
   "source": [
    "runExampleWorkflow()"
   ]
  },
  {
   "cell_type": "markdown",
   "metadata": {},
   "source": [
    "### 2.4 - Export and embed provenance within NetCDF results\n",
    "\n",
    "Provenance is extracted from the repository for the ouput result in PROV format."
   ]
  },
  {
   "cell_type": "code",
   "execution_count": null,
   "metadata": {
    "collapsed": false
   },
   "outputs": [],
   "source": [
    "# output location.\n",
    "finalFile = input_data['Collector'][0]['input'][1]\n",
    "print finalFile\n",
    "\n",
<<<<<<< HEAD
    "!ncview data/newOut.nc"
   ]
  },
  {
   "cell_type": "code",
   "execution_count": null,
   "metadata": {
    "collapsed": false
   },
   "outputs": [],
   "source": [
=======
>>>>>>> a6fe0a503b7f6a1ec078923b10c7778791a0db08
    "''' read id of output to locate prov '''\n",
    "ds = xarray.open_dataset( finalFile )\n",
    "dataid = ds.attrs['id']     \n",
    "\n",
    "'''\n",
    "https://github.com/aspinuso/dispel4py/blob/master/d4py-prov-xcorrelation-example.ipynb\n",
    "'''\n",
    "print(\"Extract Trace for dataid: \"+dataid)\n",
    "expurl = urlparse(ProvenancePE.PROV_EXPORT_URL)\n",
    "connection = httplib.HTTPConnection(expurl.netloc)\n",
    "print(expurl.netloc+expurl.path+dataid+\"?all=true\")\n",
    "connection.request(\n",
    "                \"GET\", expurl.path+dataid+\"?all=true\")\n",
    "response = connection.getresponse()\n",
    "print(\"progress: \" + str((response.status, response.reason)))\n",
    "prov1 = response.read()\n",
    "print('PROV TO EMBED:')\n",
    "print str(prov1)"
   ]
  },
  {
<<<<<<< HEAD
   "cell_type": "code",
   "execution_count": null,
   "metadata": {
    "collapsed": false
   },
   "outputs": [],
=======
   "cell_type": "markdown",
   "metadata": {},
>>>>>>> a6fe0a503b7f6a1ec078923b10c7778791a0db08
   "source": [
    "And embedded into a new file "
   ]
  },
  {
   "cell_type": "code",
   "execution_count": null,
   "metadata": {
    "collapsed": false
   },
   "outputs": [],
   "source": [
    "#ds. create variable save to file\n",
    "\n",
    "ds.load()\n",
    "ds['provenance'] = xarray.DataArray(\"\")\n",
    "\n",
    "ds['provenance'].attrs['prov_xml']=str(prov1)\n",
    "\n",
    "#\n",
    "\n",
    "\n",
    "#print finalFile\n",
    "\n",
    "\n",
    "ds.to_netcdf(str(finalFile+\"_PROV\"))\n",
    "\n",
    "\n",
    "#\n",
    "ds = xarray.open_dataset(str(finalFile+\"_PROV\"))\n",
    "#\n",
    "print ds\n"
   ]
  },
  {
   "cell_type": "markdown",
   "metadata": {},
   "source": [
    "### 2.5 - Explore the resulting provenance with static and interactive visualsations\n",
    "\n",
    "The W3C-PROV provenance trace for a target data element is visualised."
   ]
  },
  {
   "cell_type": "code",
   "execution_count": null,
   "metadata": {
    "collapsed": false
   },
   "outputs": [],
   "source": [
    "import prov\n",
    "import io\n",
    "import StringIO\n",
    "from prov.model import ProvDocument, ProvBundle, ProvException, first, Literal\n",
    "from prov.dot import prov_to_dot\n",
    "\n",
    "def provToSvg(xml,output_f):\n",
    "     \n",
    "    xml_doc = StringIO.StringIO()\n",
    "    xml_doc.write(str(xml))\n",
    "    xml_doc.seek(0, 0)\n",
    "    #print xml_doc\n",
    "    doc=ProvDocument.deserialize(xml_doc,format=\"xml\")\n",
    "    dot = prov_to_dot(doc)\n",
    "    return dot.create(format=output_f)\n",
    "    \n",
    "\n",
    "#prov_doc=open(prov).read()\n",
    "\n",
    "#print prov1\n",
    "\n",
    "svg_content=provToSvg(prov1,\"png\")\n",
    "\n",
    "with open(\"PROV.png\",\"w+\") as text_file:\n",
    "    text_file.write(str(svg_content))\n",
    "\n",
    "from IPython.display import Image\n",
    "Image(\"PROV.png\")\n",
    "\n",
    "    \n",
    "# visualse NetCDF provenance in SVG"
   ]
  },
  {
   "cell_type": "markdown",
   "metadata": {},
   "source": [
    "#### Storage into generic archives\n",
    "\n",
    "The PROV Document can be store within generic archives:\n",
    "\n",
    "https://provenance.ecs.soton.ac.uk/store/\n",
    "\n"
   ]
  },
  {
   "cell_type": "markdown",
   "metadata": {},
   "source": [
    "#### Interactive tools - S-ProvFlow GUI\n",
    "\n",
    "The model and the repository can be explored through the S-ProvFlow GUI\n",
    "\n",
    "http://127.0.0.1:8080/provenance-explorer/html/view.jsp\n",
    "\n"
   ]
  },
  {
   "cell_type": "markdown",
   "metadata": {},
   "source": [
    "### 3 - Data-reuse traceability.\n",
    "\n",
    "Change the <i>1.3 Specify the Input</i> section with the commented lines alternatively. Run the notebook to see updated results, both inline and on the remote repository."
   ]
  },
  {
   "cell_type": "code",
   "execution_count": null,
   "metadata": {
    "collapsed": true
   },
   "outputs": [],
   "source": []
  },
  {
   "cell_type": "code",
   "execution_count": null,
   "metadata": {
    "collapsed": true
   },
   "outputs": [],
   "source": []
  },
  {
   "cell_type": "code",
   "execution_count": null,
   "metadata": {
    "collapsed": true
   },
   "outputs": [],
   "source": []
  }
 ],
 "metadata": {
  "kernelspec": {
   "display_name": "Python 2",
   "language": "python",
   "name": "python2"
  },
  "language_info": {
   "codemirror_mode": {
    "name": "ipython",
    "version": 2
   },
   "file_extension": ".py",
   "mimetype": "text/x-python",
   "name": "python",
   "nbconvert_exporter": "python",
   "pygments_lexer": "ipython2",
   "version": "2.7.6"
  }
 },
 "nbformat": 4,
 "nbformat_minor": 2
}
